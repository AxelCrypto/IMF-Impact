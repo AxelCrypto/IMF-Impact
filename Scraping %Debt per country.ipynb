{
 "cells": [
  {
   "cell_type": "markdown",
   "id": "c1134aa5",
   "metadata": {},
   "source": [
    "**Adding Data**\n",
    "\n",
    "***Objective: add the % of debt in USD for each country.***\n",
    "- Step 1. Collect the data from https://en.wikipedia.org/wiki/List_of_countries_by_external_debt\n",
    "- Step 2. Clean the data and export it to a DataFrame\n",
    "- Step 3. Link the Data to the IMF countries DataFrame."
   ]
  },
  {
   "cell_type": "code",
   "execution_count": 1,
   "id": "6cde5393",
   "metadata": {},
   "outputs": [],
   "source": [
    "import requests as req\n",
    "\n",
    "from bs4 import BeautifulSoup as bs"
   ]
  },
  {
   "cell_type": "code",
   "execution_count": 2,
   "id": "df1a1e16",
   "metadata": {},
   "outputs": [],
   "source": [
    "url='https://en.wikipedia.org/wiki/List_of_countries_by_external_debt'"
   ]
  },
  {
   "cell_type": "code",
   "execution_count": 3,
   "id": "090c659f",
   "metadata": {},
   "outputs": [],
   "source": [
    "html=req.get(url).content   # o .text\n",
    "\n",
    "soup=bs(html, 'html.parser')\n"
   ]
  },
  {
   "cell_type": "code",
   "execution_count": 4,
   "id": "631e22e4",
   "metadata": {},
   "outputs": [],
   "source": [
    "table = soup.find_all('table')[0]"
   ]
  },
  {
   "cell_type": "code",
   "execution_count": 5,
   "id": "22b42a85",
   "metadata": {},
   "outputs": [],
   "source": [
    "raws = table.find_all('tr')"
   ]
  },
  {
   "cell_type": "code",
   "execution_count": 6,
   "id": "63261568",
   "metadata": {},
   "outputs": [],
   "source": [
    "raws = [e.text.strip().split('\\n') for e in raws]"
   ]
  },
  {
   "cell_type": "code",
   "execution_count": 7,
   "id": "07f06279",
   "metadata": {},
   "outputs": [
    {
     "data": {
      "text/plain": [
       "[['Country/Region',\n",
       "  'External debtUS dollars ',\n",
       "  'Date',\n",
       "  'Per capitaUS dollars',\n",
       "  '% of GDP'],\n",
       " ['United States', '31\\xa0trillion', 'January 2023[1]', '94,188', '121.08'],\n",
       " ['United Kingdom', '8.73\\xa0trillion', 'June 2022[1]', '129,203', '273.06'],\n",
       " ['France', '7.04\\xa0trillion', 'June 2022[1]', '107,245', '253.35'],\n",
       " ['Germany', '6.46\\xa0trillion', 'June 2022[1]', '77,607', '160.35']]"
      ]
     },
     "execution_count": 7,
     "metadata": {},
     "output_type": "execute_result"
    }
   ],
   "source": [
    "raws_final = [[e for e in f if e!=''] for f in raws]\n",
    "\n",
    "raws_final[:5]"
   ]
  },
  {
   "cell_type": "code",
   "execution_count": 8,
   "id": "5b95249d",
   "metadata": {},
   "outputs": [],
   "source": [
    "import pandas as pd\n",
    "\n",
    "\n",
    "col_names = raws[0]\n",
    "\n",
    "items = raws[1:]\n",
    "\n",
    "\n",
    "df = pd.DataFrame(items)\n"
   ]
  },
  {
   "cell_type": "code",
   "execution_count": 9,
   "id": "bcfbaeb1",
   "metadata": {},
   "outputs": [
    {
     "name": "stdout",
     "output_type": "stream",
     "text": [
      "<class 'pandas.core.frame.DataFrame'>\n",
      "RangeIndex: 209 entries, 0 to 208\n",
      "Data columns (total 7 columns):\n",
      " #   Column  Non-Null Count  Dtype \n",
      "---  ------  --------------  ----- \n",
      " 0   0       209 non-null    object\n",
      " 1   1       209 non-null    object\n",
      " 2   2       209 non-null    object\n",
      " 3   3       209 non-null    object\n",
      " 4   4       209 non-null    object\n",
      " 5   5       1 non-null      object\n",
      " 6   6       1 non-null      object\n",
      "dtypes: object(7)\n",
      "memory usage: 11.6+ KB\n"
     ]
    }
   ],
   "source": [
    "df.info()"
   ]
  },
  {
   "cell_type": "code",
   "execution_count": 10,
   "id": "4cbfbc17",
   "metadata": {},
   "outputs": [],
   "source": [
    "# I have one line which did not worked. I will delete the line and add the corrected one in the bottom.\n",
    "\n",
    "drop = df[df[5].isnull()== False].index"
   ]
  },
  {
   "cell_type": "code",
   "execution_count": 11,
   "id": "86793877",
   "metadata": {},
   "outputs": [],
   "source": [
    "df.drop(drop, axis = 0, inplace = True)"
   ]
  },
  {
   "cell_type": "code",
   "execution_count": 12,
   "id": "0aed095f",
   "metadata": {},
   "outputs": [],
   "source": [
    "df.drop(df.iloc[:,5:], axis = 1, inplace = True)"
   ]
  },
  {
   "cell_type": "code",
   "execution_count": 13,
   "id": "b1895380",
   "metadata": {},
   "outputs": [
    {
     "name": "stdout",
     "output_type": "stream",
     "text": [
      "<class 'pandas.core.frame.DataFrame'>\n",
      "RangeIndex: 208 entries, 0 to 207\n",
      "Data columns (total 5 columns):\n",
      " #   Column  Non-Null Count  Dtype \n",
      "---  ------  --------------  ----- \n",
      " 0   0       208 non-null    object\n",
      " 1   1       208 non-null    object\n",
      " 2   2       208 non-null    object\n",
      " 3   3       208 non-null    object\n",
      " 4   4       208 non-null    object\n",
      "dtypes: object(5)\n",
      "memory usage: 8.2+ KB\n"
     ]
    }
   ],
   "source": [
    "df.reset_index(inplace = True, drop=True)\n",
    "df.info()"
   ]
  },
  {
   "cell_type": "code",
   "execution_count": 14,
   "id": "dacc6921",
   "metadata": {},
   "outputs": [
    {
     "data": {
      "text/html": [
       "<div>\n",
       "<style scoped>\n",
       "    .dataframe tbody tr th:only-of-type {\n",
       "        vertical-align: middle;\n",
       "    }\n",
       "\n",
       "    .dataframe tbody tr th {\n",
       "        vertical-align: top;\n",
       "    }\n",
       "\n",
       "    .dataframe thead th {\n",
       "        text-align: right;\n",
       "    }\n",
       "</style>\n",
       "<table border=\"1\" class=\"dataframe\">\n",
       "  <thead>\n",
       "    <tr style=\"text-align: right;\">\n",
       "      <th></th>\n",
       "      <th>0</th>\n",
       "      <th>1</th>\n",
       "      <th>2</th>\n",
       "      <th>3</th>\n",
       "      <th>4</th>\n",
       "    </tr>\n",
       "  </thead>\n",
       "  <tbody>\n",
       "    <tr>\n",
       "      <th>0</th>\n",
       "      <td>United States</td>\n",
       "      <td>31 trillion</td>\n",
       "      <td>January 2023[1]</td>\n",
       "      <td>94,188</td>\n",
       "      <td>121.08</td>\n",
       "    </tr>\n",
       "    <tr>\n",
       "      <th>1</th>\n",
       "      <td>United Kingdom</td>\n",
       "      <td>8.73 trillion</td>\n",
       "      <td>June 2022[1]</td>\n",
       "      <td>129,203</td>\n",
       "      <td>273.06</td>\n",
       "    </tr>\n",
       "    <tr>\n",
       "      <th>2</th>\n",
       "      <td>France</td>\n",
       "      <td>7.04 trillion</td>\n",
       "      <td>June 2022[1]</td>\n",
       "      <td>107,245</td>\n",
       "      <td>253.35</td>\n",
       "    </tr>\n",
       "    <tr>\n",
       "      <th>3</th>\n",
       "      <td>Germany</td>\n",
       "      <td>6.46 trillion</td>\n",
       "      <td>June 2022[1]</td>\n",
       "      <td>77,607</td>\n",
       "      <td>160.35</td>\n",
       "    </tr>\n",
       "    <tr>\n",
       "      <th>4</th>\n",
       "      <td>Japan</td>\n",
       "      <td>4.36 trillion</td>\n",
       "      <td>June 2022[1]</td>\n",
       "      <td>34,841</td>\n",
       "      <td>101.41</td>\n",
       "    </tr>\n",
       "  </tbody>\n",
       "</table>\n",
       "</div>"
      ],
      "text/plain": [
       "                0              1                2        3       4\n",
       "0   United States    31 trillion  January 2023[1]   94,188  121.08\n",
       "1  United Kingdom  8.73 trillion     June 2022[1]  129,203  273.06\n",
       "2          France  7.04 trillion     June 2022[1]  107,245  253.35\n",
       "3         Germany  6.46 trillion     June 2022[1]   77,607  160.35\n",
       "4           Japan  4.36 trillion     June 2022[1]   34,841  101.41"
      ]
     },
     "execution_count": 14,
     "metadata": {},
     "output_type": "execute_result"
    }
   ],
   "source": [
    "df.head()"
   ]
  },
  {
   "cell_type": "code",
   "execution_count": 15,
   "id": "f98447a0",
   "metadata": {},
   "outputs": [],
   "source": [
    "df.columns = ['Name','External_Debt_USD','Date','Per_capita_USD','%ofGDP']"
   ]
  },
  {
   "cell_type": "code",
   "execution_count": 16,
   "id": "a9c7a52a",
   "metadata": {},
   "outputs": [
    {
     "data": {
      "text/html": [
       "<div>\n",
       "<style scoped>\n",
       "    .dataframe tbody tr th:only-of-type {\n",
       "        vertical-align: middle;\n",
       "    }\n",
       "\n",
       "    .dataframe tbody tr th {\n",
       "        vertical-align: top;\n",
       "    }\n",
       "\n",
       "    .dataframe thead th {\n",
       "        text-align: right;\n",
       "    }\n",
       "</style>\n",
       "<table border=\"1\" class=\"dataframe\">\n",
       "  <thead>\n",
       "    <tr style=\"text-align: right;\">\n",
       "      <th></th>\n",
       "      <th>Name</th>\n",
       "      <th>External_Debt_USD</th>\n",
       "      <th>Date</th>\n",
       "      <th>Per_capita_USD</th>\n",
       "      <th>%ofGDP</th>\n",
       "    </tr>\n",
       "  </thead>\n",
       "  <tbody>\n",
       "    <tr>\n",
       "      <th>0</th>\n",
       "      <td>United States</td>\n",
       "      <td>31 trillion</td>\n",
       "      <td>January 2023[1]</td>\n",
       "      <td>94,188</td>\n",
       "      <td>121.08</td>\n",
       "    </tr>\n",
       "    <tr>\n",
       "      <th>1</th>\n",
       "      <td>United Kingdom</td>\n",
       "      <td>8.73 trillion</td>\n",
       "      <td>June 2022[1]</td>\n",
       "      <td>129,203</td>\n",
       "      <td>273.06</td>\n",
       "    </tr>\n",
       "    <tr>\n",
       "      <th>2</th>\n",
       "      <td>France</td>\n",
       "      <td>7.04 trillion</td>\n",
       "      <td>June 2022[1]</td>\n",
       "      <td>107,245</td>\n",
       "      <td>253.35</td>\n",
       "    </tr>\n",
       "    <tr>\n",
       "      <th>3</th>\n",
       "      <td>Germany</td>\n",
       "      <td>6.46 trillion</td>\n",
       "      <td>June 2022[1]</td>\n",
       "      <td>77,607</td>\n",
       "      <td>160.35</td>\n",
       "    </tr>\n",
       "    <tr>\n",
       "      <th>4</th>\n",
       "      <td>Japan</td>\n",
       "      <td>4.36 trillion</td>\n",
       "      <td>June 2022[1]</td>\n",
       "      <td>34,841</td>\n",
       "      <td>101.41</td>\n",
       "    </tr>\n",
       "  </tbody>\n",
       "</table>\n",
       "</div>"
      ],
      "text/plain": [
       "             Name External_Debt_USD             Date Per_capita_USD  %ofGDP\n",
       "0   United States       31 trillion  January 2023[1]         94,188  121.08\n",
       "1  United Kingdom     8.73 trillion     June 2022[1]        129,203  273.06\n",
       "2          France     7.04 trillion     June 2022[1]        107,245  253.35\n",
       "3         Germany     6.46 trillion     June 2022[1]         77,607  160.35\n",
       "4           Japan     4.36 trillion     June 2022[1]         34,841  101.41"
      ]
     },
     "execution_count": 16,
     "metadata": {},
     "output_type": "execute_result"
    }
   ],
   "source": [
    "df.head()"
   ]
  },
  {
   "cell_type": "code",
   "execution_count": 17,
   "id": "afba279d",
   "metadata": {},
   "outputs": [],
   "source": [
    "list_row = [\"San Marino\", '352 million', 2016, '10,604', 23.00]\n",
    "df.loc[len(df)] = list_row"
   ]
  },
  {
   "cell_type": "markdown",
   "id": "7cbfc71b",
   "metadata": {},
   "source": [
    "***Step 1 and 2 are completed. Now let's join the Datasets.***"
   ]
  },
  {
   "cell_type": "code",
   "execution_count": 18,
   "id": "106511a1",
   "metadata": {},
   "outputs": [],
   "source": [
    "df['id_Name'] = [e for e in range(len(df))]"
   ]
  },
  {
   "cell_type": "code",
   "execution_count": 19,
   "id": "820a166e",
   "metadata": {},
   "outputs": [],
   "source": [
    "# Create a dictionarry with an ID for each name\n",
    "ids = df.Name.to_dict()"
   ]
  },
  {
   "cell_type": "code",
   "execution_count": 20,
   "id": "8a411f87",
   "metadata": {
    "scrolled": true
   },
   "outputs": [],
   "source": [
    "IMFDF = pd.read_csv('Data\\IMFDF.csv')"
   ]
  },
  {
   "cell_type": "code",
   "execution_count": 21,
   "id": "03668843",
   "metadata": {},
   "outputs": [],
   "source": [
    "#IMF_Names = list(set(IMFDF.Name))"
   ]
  },
  {
   "cell_type": "code",
   "execution_count": 22,
   "id": "fcee5e16",
   "metadata": {},
   "outputs": [],
   "source": [
    "#df_Names = list(df.Name)"
   ]
  },
  {
   "cell_type": "code",
   "execution_count": 23,
   "id": "3cc0d050",
   "metadata": {},
   "outputs": [
    {
     "data": {
      "text/plain": [
       "'for e in IMF_Names:\\n    if e in ids.values():\\n        print(ids.keys())'"
      ]
     },
     "execution_count": 23,
     "metadata": {},
     "output_type": "execute_result"
    }
   ],
   "source": [
    "'''for e in IMF_Names:\n",
    "    if e in ids.values():\n",
    "        print(ids.keys())'''"
   ]
  },
  {
   "cell_type": "code",
   "execution_count": 24,
   "id": "41de6356",
   "metadata": {},
   "outputs": [
    {
     "data": {
      "text/plain": [
       "'lst_ids=[]\\n\\nfor k,v in ids.items():\\n    \\n    for country in IMF_Names:\\n        \\n        if country==v:\\n            lst_ids.append(k)\\n    \\n    '"
      ]
     },
     "execution_count": 24,
     "metadata": {},
     "output_type": "execute_result"
    }
   ],
   "source": [
    "'''lst_ids=[]\n",
    "\n",
    "for k,v in ids.items():\n",
    "    \n",
    "    for country in IMF_Names:\n",
    "        \n",
    "        if country==v:\n",
    "            lst_ids.append(k)\n",
    "    \n",
    "    '''"
   ]
  },
  {
   "cell_type": "code",
   "execution_count": 25,
   "id": "9755d364",
   "metadata": {},
   "outputs": [],
   "source": [
    "#IMF_ID = dict(zip(lst_ids, IMF_Names))"
   ]
  },
  {
   "cell_type": "code",
   "execution_count": 26,
   "id": "eb95cf9c",
   "metadata": {},
   "outputs": [],
   "source": [
    "#pd.DataFrame(IMF_ID.values(), index = IMF_ID.keys())"
   ]
  },
  {
   "cell_type": "code",
   "execution_count": 27,
   "id": "11fdf28a",
   "metadata": {},
   "outputs": [],
   "source": [
    "#df.join(IMFDF, on='Name', how='left', sort=False)\n",
    "#IMFDF = IMFDF.merge(df[['Name','id_Name']], on='Name', how='left', indicator=True)"
   ]
  },
  {
   "cell_type": "code",
   "execution_count": 29,
   "id": "d9374767",
   "metadata": {},
   "outputs": [],
   "source": [
    "#nul_indexes = IMFDF.Name[IMFDF.id_Name.isnull()].index"
   ]
  },
  {
   "cell_type": "code",
   "execution_count": 31,
   "id": "fc8ca2c3",
   "metadata": {},
   "outputs": [],
   "source": [
    "#unknowns = set(list(IMFDF.iloc[nul_indexes]['Name']))"
   ]
  },
  {
   "cell_type": "code",
   "execution_count": 32,
   "id": "aa2d3da4",
   "metadata": {},
   "outputs": [
    {
     "data": {
      "text/plain": [
       "'unknowns = {\\'Cabo Verde\\': 155,\\n \\'Congo, Dem. Rep.\\' : 126,\\n \\'Congo, Rep.\\': 129 ,\\n \"Cote d\\'Ivoire\": 107,\\n \\'Gambia, The\\' : 177 ,\\n \\'Russian Federation\\': 20 ,\\n \\'St. Lucia\\' : 178,\\n \\'St. Vincent and the Grenadines\\' : 185,\\n \\'Turkiye\\' : 21 }'"
      ]
     },
     "execution_count": 32,
     "metadata": {},
     "output_type": "execute_result"
    }
   ],
   "source": [
    "'''unknowns = {'Cabo Verde': 155,\n",
    " 'Congo, Dem. Rep.' : 126,\n",
    " 'Congo, Rep.': 129 ,\n",
    " \"Cote d'Ivoire\": 107,\n",
    " 'Gambia, The' : 177 ,\n",
    " 'Russian Federation': 20 ,\n",
    " 'St. Lucia' : 178,\n",
    " 'St. Vincent and the Grenadines' : 185,\n",
    " 'Turkiye' : 21 }'''"
   ]
  },
  {
   "cell_type": "code",
   "execution_count": 33,
   "id": "48573f3f",
   "metadata": {},
   "outputs": [],
   "source": [
    "#IMFDF ['id_Name'] =  [None if pd.isna(x) else x for x in list(IMFDF.id_Name)]"
   ]
  },
  {
   "cell_type": "code",
   "execution_count": 34,
   "id": "ab784d2a",
   "metadata": {},
   "outputs": [],
   "source": [
    "#ids[185]"
   ]
  },
  {
   "cell_type": "code",
   "execution_count": 35,
   "id": "b0ca858c",
   "metadata": {},
   "outputs": [],
   "source": [
    "fix_typo = {'Turkiye': 'Turkey',\n",
    "            'Cabo Verde': 'Cape Verde',\n",
    "             'Congo, Dem. Rep.' : 'Democratic Republic of the Congo',\n",
    "             'Congo, Rep.': 'Republic of the Congo' ,\n",
    "             \"Cote d'Ivoire\": 'Ivory Coast',\n",
    "             'Gambia, The' : 'Gambia' ,\n",
    "             'Russian Federation': 'Russia' ,\n",
    "             'St. Lucia' : 'Saint Lucia',\n",
    "             'St. Vincent and the Grenadines' : 'Saint Vincent and the Grenadines',\n",
    "           }"
   ]
  },
  {
   "cell_type": "code",
   "execution_count": 36,
   "id": "8d0a6570",
   "metadata": {},
   "outputs": [],
   "source": [
    "IMFDF.Name = IMFDF.Name.apply(lambda x: fix_typo.get(x, x))"
   ]
  },
  {
   "cell_type": "code",
   "execution_count": 37,
   "id": "cb911f8d",
   "metadata": {},
   "outputs": [],
   "source": [
    "IMFDF = IMFDF.merge(df[['Name','id_Name']], on='Name', how='left', indicator=True)"
   ]
  },
  {
   "cell_type": "code",
   "execution_count": 39,
   "id": "8d7b9dda",
   "metadata": {},
   "outputs": [
    {
     "name": "stdout",
     "output_type": "stream",
     "text": [
      "<class 'pandas.core.frame.DataFrame'>\n",
      "Int64Index: 3120 entries, 0 to 3119\n",
      "Data columns (total 57 columns):\n",
      " #   Column      Non-Null Count  Dtype   \n",
      "---  ------      --------------  -----   \n",
      " 0   Unnamed: 0  3120 non-null   int64   \n",
      " 1   Name        3120 non-null   object  \n",
      " 2   NCode       3120 non-null   object  \n",
      " 3   Series      3120 non-null   object  \n",
      " 4   SCode       3120 non-null   object  \n",
      " 5   1972        3120 non-null   object  \n",
      " 6   1973        3120 non-null   object  \n",
      " 7   1974        3120 non-null   object  \n",
      " 8   1975        3120 non-null   object  \n",
      " 9   1976        3120 non-null   object  \n",
      " 10  1977        3120 non-null   object  \n",
      " 11  1978        3120 non-null   object  \n",
      " 12  1979        3120 non-null   object  \n",
      " 13  1980        3120 non-null   object  \n",
      " 14  1981        3120 non-null   object  \n",
      " 15  1982        3120 non-null   object  \n",
      " 16  1983        3120 non-null   object  \n",
      " 17  1984        3120 non-null   object  \n",
      " 18  1985        3120 non-null   object  \n",
      " 19  1986        3120 non-null   object  \n",
      " 20  1987        3120 non-null   object  \n",
      " 21  1988        3120 non-null   object  \n",
      " 22  1989        3120 non-null   object  \n",
      " 23  1990        3120 non-null   object  \n",
      " 24  1991        3120 non-null   object  \n",
      " 25  1992        3120 non-null   object  \n",
      " 26  1993        3120 non-null   object  \n",
      " 27  1994        3120 non-null   object  \n",
      " 28  1995        3120 non-null   object  \n",
      " 29  1996        3120 non-null   object  \n",
      " 30  1997        3120 non-null   object  \n",
      " 31  1998        3120 non-null   object  \n",
      " 32  1999        3120 non-null   object  \n",
      " 33  2000        3120 non-null   object  \n",
      " 34  2001        3120 non-null   object  \n",
      " 35  2002        3120 non-null   object  \n",
      " 36  2003        3120 non-null   object  \n",
      " 37  2004        3120 non-null   object  \n",
      " 38  2005        3120 non-null   object  \n",
      " 39  2006        3120 non-null   object  \n",
      " 40  2007        3120 non-null   object  \n",
      " 41  2008        3120 non-null   object  \n",
      " 42  2009        3120 non-null   object  \n",
      " 43  2010        3120 non-null   object  \n",
      " 44  2011        3120 non-null   object  \n",
      " 45  2012        3120 non-null   object  \n",
      " 46  2013        3120 non-null   object  \n",
      " 47  2014        3120 non-null   object  \n",
      " 48  2015        3120 non-null   object  \n",
      " 49  2016        3120 non-null   object  \n",
      " 50  2017        3120 non-null   object  \n",
      " 51  2018        3120 non-null   object  \n",
      " 52  2019        3120 non-null   object  \n",
      " 53  2020        3120 non-null   object  \n",
      " 54  2021        3120 non-null   object  \n",
      " 55  id_Name     3120 non-null   int64   \n",
      " 56  _merge      3120 non-null   category\n",
      "dtypes: category(1), int64(2), object(54)\n",
      "memory usage: 1.4+ MB\n"
     ]
    }
   ],
   "source": [
    "IMFDF.info()"
   ]
  },
  {
   "cell_type": "code",
   "execution_count": 41,
   "id": "1ff836b6",
   "metadata": {},
   "outputs": [],
   "source": [
    "IMFDF.to_csv('Data\\IMF_DF.csv')"
   ]
  },
  {
   "cell_type": "code",
   "execution_count": 42,
   "id": "2fb80cc1",
   "metadata": {},
   "outputs": [],
   "source": [
    "df.to_csv('Data\\%debt.csv')"
   ]
  },
  {
   "cell_type": "code",
   "execution_count": null,
   "id": "0dda49a5",
   "metadata": {},
   "outputs": [],
   "source": []
  }
 ],
 "metadata": {
  "kernelspec": {
   "display_name": "Python 3 (ipykernel)",
   "language": "python",
   "name": "python3"
  },
  "language_info": {
   "codemirror_mode": {
    "name": "ipython",
    "version": 3
   },
   "file_extension": ".py",
   "mimetype": "text/x-python",
   "name": "python",
   "nbconvert_exporter": "python",
   "pygments_lexer": "ipython3",
   "version": "3.9.13"
  }
 },
 "nbformat": 4,
 "nbformat_minor": 5
}
