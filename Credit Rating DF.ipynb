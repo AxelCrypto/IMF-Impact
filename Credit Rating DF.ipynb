{
 "cells": [
  {
   "cell_type": "code",
   "execution_count": 1,
   "id": "fd793e4a",
   "metadata": {},
   "outputs": [],
   "source": [
    "from selenium import webdriver\n",
    "from webdriver_manager.chrome import ChromeDriverManager \n",
    "import pandas as pd\n",
    "from selenium.webdriver.common.by import By"
   ]
  },
  {
   "cell_type": "code",
   "execution_count": 2,
   "id": "84fdb77a",
   "metadata": {},
   "outputs": [],
   "source": [
    "url = 'https://tradingeconomics.com/country-list/rating'"
   ]
  },
  {
   "cell_type": "code",
   "execution_count": 3,
   "id": "210564e5",
   "metadata": {},
   "outputs": [
    {
     "name": "stderr",
     "output_type": "stream",
     "text": [
      "C:\\Users\\axell\\AppData\\Local\\Temp\\ipykernel_2188\\2183069208.py:3: DeprecationWarning: executable_path has been deprecated, please pass in a Service object\n",
      "  driver=webdriver.Chrome(PATH)       # abre una venta una de chrome\n"
     ]
    }
   ],
   "source": [
    "PATH = ChromeDriverManager().install()     # instala el driver de chrome\n",
    "\n",
    "driver=webdriver.Chrome(PATH)       # abre una venta una de chrome\n",
    "\n",
    "driver.get(url)"
   ]
  },
  {
   "cell_type": "code",
   "execution_count": 4,
   "id": "d35cc3d1",
   "metadata": {},
   "outputs": [],
   "source": [
    "SnP =  [e.text for e in driver.find_elements(By.XPATH, '//td[@align=\"left\"]')]"
   ]
  },
  {
   "cell_type": "code",
   "execution_count": 5,
   "id": "f68837fb",
   "metadata": {},
   "outputs": [],
   "source": [
    "Name = SnP[::3]"
   ]
  },
  {
   "cell_type": "code",
   "execution_count": 6,
   "id": "c3d740fd",
   "metadata": {},
   "outputs": [],
   "source": [
    "RatingSnP = SnP[1::3]"
   ]
  },
  {
   "cell_type": "code",
   "execution_count": 7,
   "id": "eaeae038",
   "metadata": {},
   "outputs": [],
   "source": [
    "TE = SnP[2::3]"
   ]
  },
  {
   "cell_type": "code",
   "execution_count": 17,
   "id": "141d8ea4",
   "metadata": {},
   "outputs": [],
   "source": [
    "ratings = pd.DataFrame(Name)\n",
    "ratings['Rating_S&P'] = RatingSnP\n",
    "ratings['Trading_Economics'] = TE\n",
    "ratings['id_Name'] = [e for e in range (len ( TE))]"
   ]
  },
  {
   "cell_type": "code",
   "execution_count": 43,
   "id": "0304642e",
   "metadata": {},
   "outputs": [],
   "source": [
    "IMF = pd.read_csv('Data\\IMF_DF.csv')"
   ]
  },
  {
   "cell_type": "code",
   "execution_count": 56,
   "id": "03ac8e2f",
   "metadata": {},
   "outputs": [],
   "source": [
    "ratings.columns = ['Name', 'Rating_S&P', 'Trading_Economics','id_Rating'] "
   ]
  },
  {
   "cell_type": "code",
   "execution_count": 45,
   "id": "57bf34c2",
   "metadata": {},
   "outputs": [],
   "source": [
    "df = IMF.merge(ratings[['Name','id_Rating']], on='Name', how='left')"
   ]
  },
  {
   "cell_type": "code",
   "execution_count": 46,
   "id": "66d8d154",
   "metadata": {},
   "outputs": [],
   "source": [
    "index = df[df['id_Rating'].isnull()==True].index"
   ]
  },
  {
   "cell_type": "code",
   "execution_count": 47,
   "id": "f97c6286",
   "metadata": {},
   "outputs": [],
   "source": [
    "nr = df.Name.iloc[index].unique()"
   ]
  },
  {
   "cell_type": "code",
   "execution_count": 48,
   "id": "f9722e4b",
   "metadata": {},
   "outputs": [],
   "source": [
    "for e in nr:\n",
    "    Name.append(e)\n",
    "ratings = pd.DataFrame(Name)"
   ]
  },
  {
   "cell_type": "code",
   "execution_count": 49,
   "id": "0165b00c",
   "metadata": {},
   "outputs": [],
   "source": [
    "RatingSnP = RatingSnP + ['nr' for e in range(len(RatingSnP), len(Name))]\n",
    "ratings['Rating_S&P'] = RatingSnP"
   ]
  },
  {
   "cell_type": "code",
   "execution_count": 50,
   "id": "7ec0dc5e",
   "metadata": {},
   "outputs": [],
   "source": [
    "TE = TE + ['nr' for e in range(len(TE), len(Name))]\n",
    "ratings['Trading_Economics'] = TE"
   ]
  },
  {
   "cell_type": "code",
   "execution_count": 57,
   "id": "3e23df7f",
   "metadata": {},
   "outputs": [],
   "source": [
    "ratings['id_Rating'] = [e for e in range (len ( Name))]"
   ]
  },
  {
   "cell_type": "code",
   "execution_count": 52,
   "id": "cdb7beab",
   "metadata": {},
   "outputs": [],
   "source": [
    "IMF = IMF.iloc[:,2:-1]"
   ]
  },
  {
   "cell_type": "code",
   "execution_count": 58,
   "id": "8dcb997f",
   "metadata": {},
   "outputs": [
    {
     "data": {
      "text/html": [
       "<div>\n",
       "<style scoped>\n",
       "    .dataframe tbody tr th:only-of-type {\n",
       "        vertical-align: middle;\n",
       "    }\n",
       "\n",
       "    .dataframe tbody tr th {\n",
       "        vertical-align: top;\n",
       "    }\n",
       "\n",
       "    .dataframe thead th {\n",
       "        text-align: right;\n",
       "    }\n",
       "</style>\n",
       "<table border=\"1\" class=\"dataframe\">\n",
       "  <thead>\n",
       "    <tr style=\"text-align: right;\">\n",
       "      <th></th>\n",
       "      <th>Name</th>\n",
       "      <th>Rating_S&amp;P</th>\n",
       "      <th>Trading_Economics</th>\n",
       "      <th>id_Rating</th>\n",
       "    </tr>\n",
       "  </thead>\n",
       "  <tbody>\n",
       "    <tr>\n",
       "      <th>0</th>\n",
       "      <td>Albania</td>\n",
       "      <td>B+</td>\n",
       "      <td>35</td>\n",
       "      <td>0</td>\n",
       "    </tr>\n",
       "    <tr>\n",
       "      <th>1</th>\n",
       "      <td>Andorra</td>\n",
       "      <td>BBB+</td>\n",
       "      <td>63</td>\n",
       "      <td>1</td>\n",
       "    </tr>\n",
       "    <tr>\n",
       "      <th>2</th>\n",
       "      <td>Angola</td>\n",
       "      <td>B-</td>\n",
       "      <td>25</td>\n",
       "      <td>2</td>\n",
       "    </tr>\n",
       "    <tr>\n",
       "      <th>3</th>\n",
       "      <td>Argentina</td>\n",
       "      <td>CCC+</td>\n",
       "      <td>15</td>\n",
       "      <td>3</td>\n",
       "    </tr>\n",
       "    <tr>\n",
       "      <th>4</th>\n",
       "      <td>Armenia</td>\n",
       "      <td>B+</td>\n",
       "      <td>14</td>\n",
       "      <td>4</td>\n",
       "    </tr>\n",
       "    <tr>\n",
       "      <th>...</th>\n",
       "      <td>...</td>\n",
       "      <td>...</td>\n",
       "      <td>...</td>\n",
       "      <td>...</td>\n",
       "    </tr>\n",
       "    <tr>\n",
       "      <th>177</th>\n",
       "      <td>Somalia</td>\n",
       "      <td>nr</td>\n",
       "      <td>nr</td>\n",
       "      <td>177</td>\n",
       "    </tr>\n",
       "    <tr>\n",
       "      <th>178</th>\n",
       "      <td>Saint Lucia</td>\n",
       "      <td>nr</td>\n",
       "      <td>nr</td>\n",
       "      <td>178</td>\n",
       "    </tr>\n",
       "    <tr>\n",
       "      <th>179</th>\n",
       "      <td>Saint Vincent and the Grenadines</td>\n",
       "      <td>nr</td>\n",
       "      <td>nr</td>\n",
       "      <td>179</td>\n",
       "    </tr>\n",
       "    <tr>\n",
       "      <th>180</th>\n",
       "      <td>Sudan</td>\n",
       "      <td>nr</td>\n",
       "      <td>nr</td>\n",
       "      <td>180</td>\n",
       "    </tr>\n",
       "    <tr>\n",
       "      <th>181</th>\n",
       "      <td>Zimbabwe</td>\n",
       "      <td>nr</td>\n",
       "      <td>nr</td>\n",
       "      <td>181</td>\n",
       "    </tr>\n",
       "  </tbody>\n",
       "</table>\n",
       "<p>182 rows × 4 columns</p>\n",
       "</div>"
      ],
      "text/plain": [
       "                                 Name Rating_S&P Trading_Economics  id_Rating\n",
       "0                             Albania         B+                35          0\n",
       "1                             Andorra       BBB+                63          1\n",
       "2                              Angola         B-                25          2\n",
       "3                           Argentina       CCC+                15          3\n",
       "4                             Armenia         B+                14          4\n",
       "..                                ...        ...               ...        ...\n",
       "177                           Somalia         nr                nr        177\n",
       "178                       Saint Lucia         nr                nr        178\n",
       "179  Saint Vincent and the Grenadines         nr                nr        179\n",
       "180                             Sudan         nr                nr        180\n",
       "181                          Zimbabwe         nr                nr        181\n",
       "\n",
       "[182 rows x 4 columns]"
      ]
     },
     "execution_count": 58,
     "metadata": {},
     "output_type": "execute_result"
    }
   ],
   "source": [
    "ratings"
   ]
  },
  {
   "cell_type": "code",
   "execution_count": 61,
   "id": "65f10bd0",
   "metadata": {},
   "outputs": [],
   "source": [
    "df = IMF.merge(ratings[['Name','id_Rating']], on='Name', how='right')"
   ]
  },
  {
   "cell_type": "code",
   "execution_count": 68,
   "id": "8eb11990",
   "metadata": {},
   "outputs": [],
   "source": [
    "index = df[df.id_Name.isnull() == True].index"
   ]
  },
  {
   "cell_type": "code",
   "execution_count": 70,
   "id": "4474fa0a",
   "metadata": {},
   "outputs": [],
   "source": [
    "df.drop(index, inplace = True )"
   ]
  },
  {
   "cell_type": "code",
   "execution_count": 71,
   "id": "885afd44",
   "metadata": {},
   "outputs": [],
   "source": [
    "df.reset_index(drop = True, inplace = True)"
   ]
  },
  {
   "cell_type": "code",
   "execution_count": 74,
   "id": "037468d5",
   "metadata": {},
   "outputs": [],
   "source": [
    "df.to_csv('Data\\Final_IMF.csv')"
   ]
  },
  {
   "cell_type": "code",
   "execution_count": 75,
   "id": "30db6024",
   "metadata": {},
   "outputs": [],
   "source": [
    "ratings.to_csv('Data\\Ratings.csv')"
   ]
  },
  {
   "cell_type": "code",
   "execution_count": null,
   "id": "81d93317",
   "metadata": {},
   "outputs": [],
   "source": []
  }
 ],
 "metadata": {
  "kernelspec": {
   "display_name": "Python 3 (ipykernel)",
   "language": "python",
   "name": "python3"
  },
  "language_info": {
   "codemirror_mode": {
    "name": "ipython",
    "version": 3
   },
   "file_extension": ".py",
   "mimetype": "text/x-python",
   "name": "python",
   "nbconvert_exporter": "python",
   "pygments_lexer": "ipython3",
   "version": "3.9.13"
  }
 },
 "nbformat": 4,
 "nbformat_minor": 5
}
